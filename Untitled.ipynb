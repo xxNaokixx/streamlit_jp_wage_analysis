{
 "cells": [
  {
   "cell_type": "code",
   "execution_count": 1,
   "id": "9a4b402a",
   "metadata": {},
   "outputs": [],
   "source": [
    "import pandas as pd"
   ]
  },
  {
   "cell_type": "code",
   "execution_count": 5,
   "id": "9733d376",
   "metadata": {},
   "outputs": [
    {
     "data": {
      "text/plain": [
       "0    7.0\n",
       "1    8.0\n",
       "2    9.0\n",
       "dtype: float64"
      ]
     },
     "execution_count": 5,
     "metadata": {},
     "output_type": "execute_result"
    }
   ],
   "source": [
    "a_list = [7,8,9]\n",
    "s1 = pd.Series(a_list, dtype=float)\n",
    "s1"
   ]
  },
  {
   "cell_type": "code",
   "execution_count": 6,
   "id": "d760ddeb",
   "metadata": {},
   "outputs": [],
   "source": [
    "name = [\"apple\", \"banana\", \"orange\"]"
   ]
  },
  {
   "cell_type": "code",
   "execution_count": 11,
   "id": "371a3af0",
   "metadata": {},
   "outputs": [],
   "source": [
    "a_dic2 = {\"apple\": 7, \"banana\": 8, \"orange\": 9}\n",
    "name = [\"apple\", \"banana\", \"orange\", \"cherry\"]"
   ]
  },
  {
   "cell_type": "code",
   "execution_count": 12,
   "id": "520277b1",
   "metadata": {},
   "outputs": [
    {
     "data": {
      "text/plain": [
       "apple     7.0\n",
       "banana    8.0\n",
       "orange    9.0\n",
       "cherry    NaN\n",
       "dtype: float64"
      ]
     },
     "execution_count": 12,
     "metadata": {},
     "output_type": "execute_result"
    }
   ],
   "source": [
    "s2 = pd.Series(a_dic2, index = name)\n",
    "s2"
   ]
  },
  {
   "cell_type": "code",
   "execution_count": 13,
   "id": "63e5cf59",
   "metadata": {},
   "outputs": [
    {
     "data": {
      "text/plain": [
       "7.0"
      ]
     },
     "execution_count": 13,
     "metadata": {},
     "output_type": "execute_result"
    }
   ],
   "source": [
    "s2[\"apple\"]"
   ]
  },
  {
   "cell_type": "code",
   "execution_count": 14,
   "id": "201508ea",
   "metadata": {},
   "outputs": [
    {
     "data": {
      "text/plain": [
       "7.0"
      ]
     },
     "execution_count": 14,
     "metadata": {},
     "output_type": "execute_result"
    }
   ],
   "source": [
    "s2[0]"
   ]
  },
  {
   "cell_type": "code",
   "execution_count": 15,
   "id": "2220ec99",
   "metadata": {},
   "outputs": [
    {
     "data": {
      "text/plain": [
       "apple     7.0\n",
       "banana    8.0\n",
       "orange    9.0\n",
       "dtype: float64"
      ]
     },
     "execution_count": 15,
     "metadata": {},
     "output_type": "execute_result"
    }
   ],
   "source": [
    "s2[\"apple\": \"orange\"]"
   ]
  },
  {
   "cell_type": "code",
   "execution_count": 16,
   "id": "4e51ee8c",
   "metadata": {},
   "outputs": [
    {
     "data": {
      "text/plain": [
       "apple     7.0\n",
       "banana    8.0\n",
       "orange    9.0\n",
       "dtype: float64"
      ]
     },
     "execution_count": 16,
     "metadata": {},
     "output_type": "execute_result"
    }
   ],
   "source": [
    "s2[0:3]"
   ]
  },
  {
   "cell_type": "code",
   "execution_count": 17,
   "id": "3173aeb9",
   "metadata": {},
   "outputs": [
    {
     "data": {
      "text/plain": [
       "array([ 7.,  8.,  9., nan])"
      ]
     },
     "execution_count": 17,
     "metadata": {},
     "output_type": "execute_result"
    }
   ],
   "source": [
    "s2.values"
   ]
  },
  {
   "cell_type": "code",
   "execution_count": 20,
   "id": "c481a702",
   "metadata": {},
   "outputs": [
    {
     "data": {
      "text/plain": [
       "['apple', 'banana', 'orange', 'cherry']"
      ]
     },
     "execution_count": 20,
     "metadata": {},
     "output_type": "execute_result"
    }
   ],
   "source": [
    "list(s2.index)"
   ]
  },
  {
   "cell_type": "code",
   "execution_count": 21,
   "id": "a3a136c3",
   "metadata": {},
   "outputs": [
    {
     "data": {
      "text/plain": [
       "banana    8.0\n",
       "orange    9.0\n",
       "dtype: float64"
      ]
     },
     "execution_count": 21,
     "metadata": {},
     "output_type": "execute_result"
    }
   ],
   "source": [
    "s2[s2>7]"
   ]
  },
  {
   "cell_type": "code",
   "execution_count": 22,
   "id": "e58fcbde",
   "metadata": {},
   "outputs": [
    {
     "data": {
      "text/plain": [
       "apple     7.0\n",
       "banana    8.0\n",
       "orange    9.0\n",
       "cherry    NaN\n",
       "dtype: float64"
      ]
     },
     "execution_count": 22,
     "metadata": {},
     "output_type": "execute_result"
    }
   ],
   "source": [
    "s2"
   ]
  },
  {
   "cell_type": "code",
   "execution_count": 23,
   "id": "4c97d451",
   "metadata": {},
   "outputs": [],
   "source": [
    "s2[\"apple\"] = 100"
   ]
  },
  {
   "cell_type": "code",
   "execution_count": 24,
   "id": "d5916353",
   "metadata": {},
   "outputs": [
    {
     "data": {
      "text/plain": [
       "apple     100.0\n",
       "banana      8.0\n",
       "orange      9.0\n",
       "cherry      NaN\n",
       "dtype: float64"
      ]
     },
     "execution_count": 24,
     "metadata": {},
     "output_type": "execute_result"
    }
   ],
   "source": [
    "s2"
   ]
  },
  {
   "cell_type": "code",
   "execution_count": 25,
   "id": "d8376798",
   "metadata": {},
   "outputs": [],
   "source": [
    "s2[1:3] = 200"
   ]
  },
  {
   "cell_type": "code",
   "execution_count": 26,
   "id": "12756305",
   "metadata": {},
   "outputs": [
    {
     "data": {
      "text/plain": [
       "apple     100.0\n",
       "banana    200.0\n",
       "orange    200.0\n",
       "cherry      NaN\n",
       "dtype: float64"
      ]
     },
     "execution_count": 26,
     "metadata": {},
     "output_type": "execute_result"
    }
   ],
   "source": [
    "s2"
   ]
  },
  {
   "cell_type": "code",
   "execution_count": 27,
   "id": "83c8b2e8",
   "metadata": {},
   "outputs": [],
   "source": [
    "a_list = [7,8,9]\n",
    "b_list = [10,11]\n",
    "s3 = pd.Series(a_list)\n",
    "s4 = pd.Series(b_list)"
   ]
  },
  {
   "cell_type": "code",
   "execution_count": 30,
   "id": "7a571368",
   "metadata": {},
   "outputs": [
    {
     "name": "stderr",
     "output_type": "stream",
     "text": [
      "/var/folders/9j/g3nm72s54g5df75_4gzcrxth0000gn/T/ipykernel_39766/2540320421.py:1: FutureWarning: The series.append method is deprecated and will be removed from pandas in a future version. Use pandas.concat instead.\n",
      "  s3.append(s4, ignore_index = True)\n"
     ]
    },
    {
     "data": {
      "text/plain": [
       "0     7\n",
       "1     8\n",
       "2     9\n",
       "3    10\n",
       "4    11\n",
       "dtype: int64"
      ]
     },
     "execution_count": 30,
     "metadata": {},
     "output_type": "execute_result"
    }
   ],
   "source": [
    "s5 = s3.append(s4, ignore_index = True)"
   ]
  },
  {
   "cell_type": "code",
   "execution_count": null,
   "id": "b9f5df2a",
   "metadata": {},
   "outputs": [],
   "source": []
  },
  {
   "cell_type": "code",
   "execution_count": 31,
   "id": "5f2439ef",
   "metadata": {},
   "outputs": [
    {
     "data": {
      "text/plain": [
       "apple     100.0\n",
       "banana    200.0\n",
       "orange    200.0\n",
       "cherry      NaN\n",
       "dtype: float64"
      ]
     },
     "execution_count": 31,
     "metadata": {},
     "output_type": "execute_result"
    }
   ],
   "source": [
    "s2"
   ]
  },
  {
   "cell_type": "code",
   "execution_count": 34,
   "id": "81ffa442",
   "metadata": {},
   "outputs": [],
   "source": [
    "s2.drop(index = \"banana\", inplace = True)"
   ]
  },
  {
   "cell_type": "code",
   "execution_count": 35,
   "id": "f2af2dbf",
   "metadata": {},
   "outputs": [
    {
     "data": {
      "text/plain": [
       "apple     100.0\n",
       "orange    200.0\n",
       "cherry      NaN\n",
       "dtype: float64"
      ]
     },
     "execution_count": 35,
     "metadata": {},
     "output_type": "execute_result"
    }
   ],
   "source": [
    "s2"
   ]
  },
  {
   "cell_type": "code",
   "execution_count": 36,
   "id": "c4528488",
   "metadata": {},
   "outputs": [],
   "source": [
    "val = [[1,2,3],[4,5,6]]"
   ]
  },
  {
   "cell_type": "code",
   "execution_count": 42,
   "id": "b0a55894",
   "metadata": {},
   "outputs": [],
   "source": [
    "df = pd.DataFrame(val, index = [\"r0\", \"r1\"], columns = [\"c0\", \"c1\",\"c2\"])"
   ]
  },
  {
   "cell_type": "code",
   "execution_count": 43,
   "id": "bd18274c",
   "metadata": {},
   "outputs": [
    {
     "data": {
      "text/html": [
       "<div>\n",
       "<style scoped>\n",
       "    .dataframe tbody tr th:only-of-type {\n",
       "        vertical-align: middle;\n",
       "    }\n",
       "\n",
       "    .dataframe tbody tr th {\n",
       "        vertical-align: top;\n",
       "    }\n",
       "\n",
       "    .dataframe thead th {\n",
       "        text-align: right;\n",
       "    }\n",
       "</style>\n",
       "<table border=\"1\" class=\"dataframe\">\n",
       "  <thead>\n",
       "    <tr style=\"text-align: right;\">\n",
       "      <th></th>\n",
       "      <th>c0</th>\n",
       "      <th>c1</th>\n",
       "      <th>c2</th>\n",
       "    </tr>\n",
       "  </thead>\n",
       "  <tbody>\n",
       "    <tr>\n",
       "      <th>r0</th>\n",
       "      <td>1</td>\n",
       "      <td>2</td>\n",
       "      <td>3</td>\n",
       "    </tr>\n",
       "    <tr>\n",
       "      <th>r1</th>\n",
       "      <td>4</td>\n",
       "      <td>5</td>\n",
       "      <td>6</td>\n",
       "    </tr>\n",
       "  </tbody>\n",
       "</table>\n",
       "</div>"
      ],
      "text/plain": [
       "    c0  c1  c2\n",
       "r0   1   2   3\n",
       "r1   4   5   6"
      ]
     },
     "execution_count": 43,
     "metadata": {},
     "output_type": "execute_result"
    }
   ],
   "source": [
    "df"
   ]
  },
  {
   "cell_type": "code",
   "execution_count": 41,
   "id": "ff255626",
   "metadata": {},
   "outputs": [
    {
     "data": {
      "text/plain": [
       "0    float64\n",
       "1    float64\n",
       "2    float64\n",
       "dtype: object"
      ]
     },
     "execution_count": 41,
     "metadata": {},
     "output_type": "execute_result"
    }
   ],
   "source": [
    "df.dtypes"
   ]
  },
  {
   "cell_type": "code",
   "execution_count": 1,
   "id": "b05247a3",
   "metadata": {},
   "outputs": [],
   "source": [
    "import matplotlib.pyplot as plt"
   ]
  },
  {
   "cell_type": "code",
   "execution_count": 2,
   "id": "0115d74e",
   "metadata": {},
   "outputs": [],
   "source": [
    "import numpy as np"
   ]
  },
  {
   "cell_type": "code",
   "execution_count": 3,
   "id": "6fa66b45",
   "metadata": {},
   "outputs": [
    {
     "data": {
      "image/png": "[encoded data removed]",
      "text/plain": [
       "<Figure size 500x500 with 1 Axes>"
      ]
     },
     "metadata": {},
     "output_type": "display_data"
    }
   ],
   "source": [
    "fig = plt.figure(figsize = (5,5))\n",
    "ax = plt.axes()"
   ]
  },
  {
   "cell_type": "code",
   "execution_count": 4,
   "id": "ac4daa5b",
   "metadata": {},
   "outputs": [],
   "source": [
    "x = [105, 210,301,440,500]\n",
    "y = [10,20,30, 50,60]"
   ]
  },
  {
   "cell_type": "code",
   "execution_count": 15,
   "id": "f363aff8",
   "metadata": {},
   "outputs": [
    {
     "data": {
      "image/png": "[encoded data removed]",
      "text/plain": [
       "<Figure size 500x500 with 1 Axes>"
      ]
     },
     "metadata": {},
     "output_type": "display_data"
    }
   ],
   "source": [
    "x = [105, 210,301,440,500]\n",
    "y = [10,20,30, 50,60]\n",
    "\n",
    "fig = plt.figure(figsize = (5,5))\n",
    "ax = plt.axes()\n",
    "\n",
    "ax.set_title(\"matplotlib\")\n",
    "ax.set_xlabel(\"x\")\n",
    "ax.set_ylabel(\"y\")\n",
    "ax.grid()\n",
    "\n",
    "ax.plot(x,y, marker = \"o\", color = \"red\", linestyle=\"--\", linewidth = 1.0)\n",
    "plt.show()"
   ]
  },
  {
   "cell_type": "code",
   "execution_count": 17,
   "id": "e42d5d27",
   "metadata": {},
   "outputs": [
    {
     "data": {
      "image/png": "[encoded data removed]",
      "text/plain": [
       "<Figure size 640x480 with 4 Axes>"
      ]
     },
     "metadata": {},
     "output_type": "display_data"
    }
   ],
   "source": [
    "fig = plt.figure()\n",
    "\n",
    "ax1 = fig.add_subplot(221)\n",
    "ax2 = fig.add_subplot(222)\n",
    "ax3 = fig.add_subplot(223)\n",
    "ax4 = fig.add_subplot(224)\n",
    "\n",
    "plt.subplots_adjust(wspace = 0.5, hspace=0.5)"
   ]
  },
  {
   "cell_type": "code",
   "execution_count": null,
   "id": "07e34610",
   "metadata": {},
   "outputs": [],
   "source": []
  }
 ],
 "metadata": {
  "kernelspec": {
   "display_name": "Python 3 (ipykernel)",
   "language": "python",
   "name": "python3"
  },
  "language_info": {
   "codemirror_mode": {
    "name": "ipython",
    "version": 3
   },
   "file_extension": ".py",
   "mimetype": "text/x-python",
   "name": "python",
   "nbconvert_exporter": "python",
   "pygments_lexer": "ipython3",
   "version": "3.9.13"
  }
 },
 "nbformat": 4,
 "nbformat_minor": 5
}
